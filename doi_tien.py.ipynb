{
 "cells": [
  {
   "cell_type": "code",
   "execution_count": 3,
   "id": "ac151710",
   "metadata": {},
   "outputs": [
    {
     "name": "stdout",
     "output_type": "stream",
     "text": [
      "Nhập vào số USD cần đổi: 13\n",
      "Nhập vào tỷ giá hiện tại: 248005\n",
      "Số tiền Việt đổi được là:  3224065.0\n"
     ]
    }
   ],
   "source": [
    "usd = float(input(\"Nhập vào số USD cần đổi: \"))\n",
    "ty_gia = float(input(\"Nhập vào tỷ giá hiện tại: \"))\n",
    "vnd = usd * ty_gia\n",
    "print(\"Số tiền Việt đổi được là: \",vnd)"
   ]
  },
  {
   "cell_type": "code",
   "execution_count": null,
   "id": "01483369",
   "metadata": {},
   "outputs": [],
   "source": []
  }
 ],
 "metadata": {
  "kernelspec": {
   "display_name": "Python 3 (ipykernel)",
   "language": "python",
   "name": "python3"
  },
  "language_info": {
   "codemirror_mode": {
    "name": "ipython",
    "version": 3
   },
   "file_extension": ".py",
   "mimetype": "text/x-python",
   "name": "python",
   "nbconvert_exporter": "python",
   "pygments_lexer": "ipython3",
   "version": "3.9.12"
  }
 },
 "nbformat": 4,
 "nbformat_minor": 5
}
